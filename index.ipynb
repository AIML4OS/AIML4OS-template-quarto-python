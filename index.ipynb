{
  "cells": [
    {
      "cell_type": "markdown",
      "metadata": {},
      "source": [
        "# Template for WP6 training material\n",
        "\n",
        "\\| [Public Statistician 1]() \\| [Public Statistician 2]()  \n",
        "2025-05-16\n",
        "\n",
        "# What is this template?\n",
        "\n",
        "This template is a Quarto Website customized for the AIML4OS project,\n",
        "designed to be used with .\n",
        "\n",
        "# How to use it?\n",
        "\n",
        "See [this\n",
        "tutorial](https://inseefrlab.github.io/formation-starting-pack/)."
      ],
      "id": "f5752bd1-6536-40b1-9f74-727a490f4203"
    }
  ],
  "nbformat": 4,
  "nbformat_minor": 5,
  "metadata": {
    "kernelspec": {
      "display_name": "Python 3",
      "language": "python",
      "name": "python3"
    }
  }
}