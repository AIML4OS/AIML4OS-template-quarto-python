{
  "cells": [
    {
      "cell_type": "markdown",
      "metadata": {},
      "source": [
        "# Template for WP6 training material\n",
        "\n",
        "\\| [Public Statistician 1]() \\| [Public Statistician 2]()  \n",
        "2025-05-16\n",
        "\n",
        "# What is this template?\n",
        "\n",
        "This template is a Quarto Website customized for the AIML4OS project,\n",
        "designed to be used with .\n",
        "\n",
        "# How to use it?\n",
        "\n",
        "See [this\n",
        "tutorial](https://inseefrlab.github.io/formation-starting-pack/)."
      ],
      "id": "02a48c53-704c-4066-80d0-5552b5554de1"
    }
  ],
  "nbformat": 4,
  "nbformat_minor": 5,
  "metadata": {
    "kernelspec": {
      "display_name": "Python 3",
      "language": "python",
      "name": "python3"
    }
  }
}