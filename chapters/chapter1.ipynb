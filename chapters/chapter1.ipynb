{
  "cells": [
    {
      "cell_type": "markdown",
      "metadata": {},
      "source": [
        "# Quarto Basics\n",
        "\n",
        "For a demonstration of a line plot on a polar axis, see\n",
        "<a href=\"#fig-polar\" class=\"quarto-xref\">Figure 1</a>."
      ],
      "id": "cf01a4a0-6d9d-4199-a4c8-61b1cf8dafd8"
    },
    {
      "cell_type": "code",
      "execution_count": 1,
      "metadata": {},
      "outputs": [
        {
          "output_type": "display_data",
          "metadata": {},
          "data": {}
        }
      ],
      "source": [
        "import numpy as np\n",
        "import matplotlib.pyplot as plt\n",
        "\n",
        "r = np.arange(0, 2, 0.01)\n",
        "theta = 2 * np.pi * r\n",
        "fig, ax = plt.subplots(\n",
        "  subplot_kw = {'projection': 'polar'} \n",
        ")\n",
        "ax.plot(theta, r)\n",
        "ax.set_rticks([0.5, 1, 1.5, 2])\n",
        "ax.grid(True)\n",
        "plt.show()"
      ],
      "id": "cell-fig-polar"
    },
    {
      "cell_type": "markdown",
      "metadata": {},
      "source": [
        "## Demo: Basic Pandas Table\n",
        "\n",
        "This section demonstrates how to create and display a simple pandas\n",
        "DataFrame."
      ],
      "id": "26663ac8-2273-445c-9418-8e611fab8363"
    },
    {
      "cell_type": "code",
      "execution_count": 2,
      "metadata": {},
      "outputs": [],
      "source": [
        "import pandas as pd\n",
        "\n",
        "data = {\n",
        "    \"Name\": [\"Alice\", \"Bob\", \"Charlie\"],\n",
        "    \"Age\": [25, 30, 35],\n",
        "    \"City\": [\"Paris\", \"Dublin\", \"Berlin\"]\n",
        "}\n",
        "\n",
        "df = pd.DataFrame(data)\n",
        "df"
      ],
      "id": "b5570136-7a06-4e71-b329-651e201f205e"
    },
    {
      "cell_type": "markdown",
      "metadata": {},
      "source": [
        "## A more sophisticated table"
      ],
      "id": "3beae904-5f0b-4b35-b1e6-1a36be420ac0"
    },
    {
      "cell_type": "code",
      "execution_count": 3,
      "metadata": {},
      "outputs": [
        {
          "output_type": "display_data",
          "metadata": {},
          "data": {
            "text/html": [
              "\n",
              "\n",
              "</div>"
            ]
          }
        }
      ],
      "source": [
        "from great_tables import GT, html\n",
        "from great_tables.data import sza\n",
        "import polars as pl\n",
        "import polars.selectors as cs\n",
        "\n",
        "sza_pivot = (\n",
        "    pl.from_pandas(sza)\n",
        "    .filter((pl.col(\"latitude\") == \"20\") & (pl.col(\"tst\") <= \"1200\"))\n",
        "    .select(pl.col(\"*\").exclude(\"latitude\"))\n",
        "    .drop_nulls()\n",
        "    .pivot(values=\"sza\", index=\"month\", on=\"tst\", sort_columns=True)\n",
        ")\n",
        "\n",
        "(\n",
        "    GT(sza_pivot, rowname_col=\"month\")\n",
        "    .data_color(\n",
        "        domain=[90, 0],\n",
        "        palette=[\"rebeccapurple\", \"white\", \"orange\"],\n",
        "        na_color=\"white\",\n",
        "    )\n",
        "    .tab_header(\n",
        "        title=\"Solar Zenith Angles from 05:30 to 12:00\",\n",
        "        subtitle=html(\"Average monthly values at latitude of 20&deg;N.\"),\n",
        "    )\n",
        "    .sub_missing(missing_text=\"\")\n",
        ")"
      ],
      "id": "65348bce"
    }
  ],
  "nbformat": 4,
  "nbformat_minor": 5,
  "metadata": {
    "kernelspec": {
      "name": "python3",
      "display_name": "Python 3 (ipykernel)",
      "language": "python",
      "path": "/home/runner/work/AIML4OS-template-quarto-python/AIML4OS-template-quarto-python/.venv/share/jupyter/kernels/python3"
    },
    "language_info": {
      "name": "python",
      "codemirror_mode": {
        "name": "ipython",
        "version": "3"
      },
      "file_extension": ".py",
      "mimetype": "text/x-python",
      "nbconvert_exporter": "python",
      "pygments_lexer": "ipython3",
      "version": "3.12.3"
    }
  }
}